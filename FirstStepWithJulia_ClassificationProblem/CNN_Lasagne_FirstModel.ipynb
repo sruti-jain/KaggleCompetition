{
 "cells": [
  {
   "cell_type": "code",
   "execution_count": 1,
   "metadata": {
    "collapsed": false
   },
   "outputs": [
    {
     "name": "stderr",
     "output_type": "stream",
     "text": [
      "/home/sruti/anaconda3/lib/python3.5/site-packages/theano/tensor/signal/downsample.py:6: UserWarning: downsample module has been moved to the theano.tensor.signal.pool module.\n",
      "  \"downsample module has been moved to the theano.tensor.signal.pool module.\")\n",
      "/home/sruti/anaconda3/lib/python3.5/site-packages/sklearn/cross_validation.py:44: DeprecationWarning: This module was deprecated in version 0.18 in favor of the model_selection module into which all the refactored classes and functions are moved. Also note that the interface of the new CV iterators are different from that of this module. This module will be removed in 0.20.\n",
      "  \"This module will be removed in 0.20.\", DeprecationWarning)\n"
     ]
    }
   ],
   "source": [
    "%matplotlib inline\n",
    "import os\n",
    "from skimage.transform import resize\n",
    "from skimage.io import imread, imsave\n",
    "import random\n",
    "from six.moves import cPickle as pkl\n",
    "import pandas as pd\n",
    "import numpy as np\n",
    "import matplotlib.pyplot as plt\n",
    "from lasagne.nonlinearities import softmax\n",
    "from lasagne import layers, nonlinearities\n",
    "from nolearn.lasagne import NeuralNet, BatchIterator\n",
    "path = os.getcwd()"
   ]
  },
  {
   "cell_type": "code",
   "execution_count": 2,
   "metadata": {
    "collapsed": true
   },
   "outputs": [],
   "source": [
    "#Function to read dataset\n",
    "def read_data(typeData, labelsInfo, imageSize, path):\n",
    "    x = np.zeros((labelsInfo.shape[0], imageSize))\n",
    "    \n",
    "    for (index, idImage) in enumerate(labelsInfo['ID']):\n",
    "        nameFile = '{0}/{1}Resized32/{2}.Bmp'.format(path, typeData, idImage)\n",
    "        img = imread(nameFile, as_grey = True)\n",
    "        x[index, :] = np.reshape(img, (1, imageSize))   \n",
    "    return x\n",
    "\n",
    "#Convolutional Neural Network Model\n",
    "def fit_model(reshaped_train_x, y, image_width, image_height, reshaped_test_x):\n",
    "    net = NeuralNet(\n",
    "        layers = [\n",
    "            ('input', layers.InputLayer),\n",
    "            ('conv1', layers.Conv2DLayer),\n",
    "            ('pool1', layers.MaxPool2DLayer),\n",
    "            ('dropout1', layers.DropoutLayer),\n",
    "            ('conv2', layers.Conv2DLayer),\n",
    "            ('pool2', layers.MaxPool2DLayer),\n",
    "            ('dropout2', layers.DropoutLayer),\n",
    "            ('conv3', layers.Conv2DLayer),\n",
    "            ('hidden4', layers.DenseLayer),\n",
    "            ('output', layers.DenseLayer),\n",
    "        ],\n",
    "        input_shape = (None, 1, 32, 32),\n",
    "        conv1_num_filters=32, conv1_filter_size=(5, 5), \n",
    "        pool1_pool_size=(2, 2),\n",
    "        dropout1_p=0.2,\n",
    "        conv2_num_filters=64, conv2_filter_size=(5, 5), \n",
    "        pool2_pool_size=(2, 2),\n",
    "        dropout2_p=0.2,\n",
    "        conv3_num_filters = 128, conv3_filter_size = (5, 5),\n",
    "        hidden4_num_units=500,\n",
    "        output_num_units = 62, output_nonlinearity = softmax,\n",
    "        \n",
    "        update_learning_rate = 0.01,\n",
    "        update_momentum = 0.9,\n",
    "        \n",
    "        batch_iterator_train = BatchIterator(batch_size = 100),\n",
    "        batch_iterator_test = BatchIterator(batch_size = 100),\n",
    "        \n",
    "        use_label_encoder = True,\n",
    "        regression = False,\n",
    "        max_epochs = 100,\n",
    "        verbose = 1,\n",
    "    )\n",
    "    \n",
    "    net.fit(reshaped_train_x, y)\n",
    "    prediction = net.predict(reshaped_test_x)\n",
    "    \n",
    "    return prediction"
   ]
  },
  {
   "cell_type": "code",
   "execution_count": 3,
   "metadata": {
    "collapsed": false
   },
   "outputs": [],
   "source": [
    "from numpy import array\n",
    "imageSize = 1024 \n",
    "image_width = image_height = int(imageSize ** 0.5)\n",
    "\n",
    "labelsInfoTrain = pd.read_csv('{0}/trainLabels.csv'.format(path))\n",
    "labelsInfoTest = pd.read_csv('{0}/sampleSubmission.csv'.format(path))\n",
    "\n",
    "# Load dataset\n",
    "xTrain = read_data('train', labelsInfoTrain, imageSize, path)\n",
    "xTest = read_data('test', labelsInfoTest, imageSize, path)\n",
    "\n",
    "yTrain = list(map(ord, labelsInfoTrain['Class']))\n",
    "yTrain = np.array(yTrain)"
   ]
  },
  {
   "cell_type": "code",
   "execution_count": 4,
   "metadata": {
    "collapsed": false
   },
   "outputs": [],
   "source": [
    "xTrain /= xTrain.std(axis = None)\n",
    "xTrain -= xTrain.mean()\n",
    "\n",
    "xTest /= xTest.std(axis = None)\n",
    "xTest -= xTest.mean()"
   ]
  },
  {
   "cell_type": "code",
   "execution_count": 5,
   "metadata": {
    "collapsed": false
   },
   "outputs": [],
   "source": [
    "train_x_reshaped = xTrain.reshape(xTrain.shape[0], 1, image_height, image_width).astype('float32')\n",
    "\n",
    "test_x_reshaped = xTest.reshape(xTest.shape[0], 1, image_height, image_width).astype('float32')"
   ]
  },
  {
   "cell_type": "code",
   "execution_count": 6,
   "metadata": {
    "collapsed": false
   },
   "outputs": [
    {
     "name": "stderr",
     "output_type": "stream",
     "text": [
      "/home/sruti/anaconda3/lib/python3.5/site-packages/lasagne/layers/conv.py:489: UserWarning: The `image_shape` keyword argument to `tensor.nnet.conv2d` is deprecated, it has been renamed to `input_shape`.\n",
      "  border_mode=border_mode)\n",
      "/home/sruti/anaconda3/lib/python3.5/site-packages/lasagne/layers/conv.py:489: UserWarning: The `image_shape` keyword argument to `tensor.nnet.conv2d` is deprecated, it has been renamed to `input_shape`.\n",
      "  border_mode=border_mode)\n"
     ]
    },
    {
     "name": "stdout",
     "output_type": "stream",
     "text": [
      "# Neural Network with 352586 learnable parameters\n",
      "\n",
      "## Layer information\n",
      "\n",
      "  #  name      size\n",
      "---  --------  --------\n",
      "  0  input     1x32x32\n",
      "  1  conv1     32x28x28\n",
      "  2  pool1     32x14x14\n",
      "  3  dropout1  32x14x14\n",
      "  4  conv2     64x10x10\n",
      "  5  pool2     64x5x5\n",
      "  6  dropout2  64x5x5\n",
      "  7  conv3     128x1x1\n",
      "  8  hidden4   500\n",
      "  9  output    62\n",
      "\n",
      "  epoch    trn loss    val loss    trn/val    valid acc  dur\n",
      "-------  ----------  ----------  ---------  -----------  ------\n",
      "      1     \u001b[36m4.08684\u001b[0m     \u001b[32m4.02057\u001b[0m    1.01648      0.07254  29.35s\n",
      "      2     \u001b[36m3.89902\u001b[0m     \u001b[32m3.83489\u001b[0m    1.01672      0.04836  28.98s\n",
      "      3     \u001b[36m3.80136\u001b[0m     \u001b[32m3.80941\u001b[0m    0.99789      0.04914  29.28s\n",
      "      4     \u001b[36m3.78883\u001b[0m     \u001b[32m3.79315\u001b[0m    0.99886      0.04914  30.51s\n",
      "      5     \u001b[36m3.78095\u001b[0m     \u001b[32m3.78858\u001b[0m    0.99799      0.07176  31.31s\n",
      "      6     \u001b[36m3.77807\u001b[0m     \u001b[32m3.78690\u001b[0m    0.99767      0.07254  27.72s\n",
      "      7     \u001b[36m3.77620\u001b[0m     \u001b[32m3.78618\u001b[0m    0.99736      0.07254  27.75s\n",
      "      8     \u001b[36m3.77502\u001b[0m     \u001b[32m3.78605\u001b[0m    0.99709      0.07254  30.98s\n",
      "      9     \u001b[36m3.77410\u001b[0m     \u001b[32m3.78538\u001b[0m    0.99702      0.07254  30.73s\n",
      "     10     \u001b[36m3.77194\u001b[0m     \u001b[32m3.78524\u001b[0m    0.99649      0.07254  28.20s\n",
      "     11     \u001b[36m3.77138\u001b[0m     3.78540    0.99630      0.07254  28.04s\n",
      "     12     \u001b[36m3.77036\u001b[0m     \u001b[32m3.78510\u001b[0m    0.99611      0.07254  27.12s\n",
      "     13     \u001b[36m3.76918\u001b[0m     \u001b[32m3.78456\u001b[0m    0.99594      0.07254  29.17s\n",
      "     14     \u001b[36m3.76808\u001b[0m     3.78467    0.99562      0.07254  29.82s\n",
      "     15     \u001b[36m3.76694\u001b[0m     \u001b[32m3.78403\u001b[0m    0.99548      0.07254  27.76s\n",
      "     16     \u001b[36m3.76540\u001b[0m     3.78438    0.99498      0.07176  29.05s\n",
      "     17     3.76605     \u001b[32m3.78299\u001b[0m    0.99552      0.07254  30.64s\n",
      "     18     \u001b[36m3.76162\u001b[0m     \u001b[32m3.78108\u001b[0m    0.99486      0.07254  29.99s\n",
      "     19     \u001b[36m3.75855\u001b[0m     \u001b[32m3.78030\u001b[0m    0.99425      0.07956  29.74s\n",
      "     20     \u001b[36m3.75459\u001b[0m     \u001b[32m3.77843\u001b[0m    0.99369      0.07800  27.84s\n",
      "     21     \u001b[36m3.74963\u001b[0m     3.77929    0.99215      0.07176  27.86s\n",
      "     22     \u001b[36m3.74148\u001b[0m     \u001b[32m3.77568\u001b[0m    0.99094      0.06630  26.97s\n",
      "     23     \u001b[36m3.72806\u001b[0m     3.77814    0.98675      0.06084  28.15s\n",
      "     24     \u001b[36m3.70462\u001b[0m     \u001b[32m3.76676\u001b[0m    0.98350      0.06942  29.94s\n",
      "     25     \u001b[36m3.65903\u001b[0m     \u001b[32m3.71813\u001b[0m    0.98410      0.09516  25.77s\n",
      "     26     \u001b[36m3.56216\u001b[0m     \u001b[32m3.59242\u001b[0m    0.99158      0.14509  25.45s\n",
      "     27     \u001b[36m3.37922\u001b[0m     \u001b[32m3.29619\u001b[0m    1.02519      0.23323  25.39s\n",
      "     28     \u001b[36m3.02302\u001b[0m     \u001b[32m2.91565\u001b[0m    1.03683      0.31123  25.43s\n",
      "     29     \u001b[36m2.59920\u001b[0m     \u001b[32m2.52576\u001b[0m    1.02908      0.38612  25.50s\n",
      "     30     \u001b[36m2.25049\u001b[0m     \u001b[32m2.21337\u001b[0m    1.01677      0.41498  25.43s\n",
      "     31     \u001b[36m1.97395\u001b[0m     \u001b[32m2.00548\u001b[0m    0.98428      0.47504  25.31s\n",
      "     32     \u001b[36m1.95625\u001b[0m     2.16106    0.90523      0.47894  26.89s\n",
      "     33     3.63020     2.66070    1.36438      0.34009  26.06s\n",
      "     34     2.22353     2.04330    1.08821      0.46334  25.70s\n",
      "     35     \u001b[36m1.84727\u001b[0m     2.17881    0.84783      0.43838  25.82s\n",
      "     36     \u001b[36m1.72807\u001b[0m     \u001b[32m1.78857\u001b[0m    0.96617      0.51326  27.04s\n",
      "     37     \u001b[36m1.52555\u001b[0m     \u001b[32m1.76620\u001b[0m    0.86375      0.51794  25.71s\n",
      "     38     \u001b[36m1.43182\u001b[0m     \u001b[32m1.64681\u001b[0m    0.86945      0.55070  25.66s\n",
      "     39     \u001b[36m1.32135\u001b[0m     1.66142    0.79532      0.54836  26.48s\n",
      "     40     \u001b[36m1.25447\u001b[0m     \u001b[32m1.64505\u001b[0m    0.76257      0.56006  25.37s\n",
      "     41     \u001b[36m1.19076\u001b[0m     \u001b[32m1.62439\u001b[0m    0.73305      0.55382  25.44s\n",
      "     42     \u001b[36m1.11062\u001b[0m     \u001b[32m1.61035\u001b[0m    0.68968      0.57020  25.38s\n",
      "     43     \u001b[36m1.04679\u001b[0m     \u001b[32m1.59615\u001b[0m    0.65582      0.57410  25.37s\n",
      "     44     \u001b[36m0.98198\u001b[0m     \u001b[32m1.58395\u001b[0m    0.61996      0.57956  27.38s\n",
      "     45     \u001b[36m0.95486\u001b[0m     1.61190    0.59238      0.58190  25.55s\n",
      "     46     \u001b[36m0.91060\u001b[0m     \u001b[32m1.57541\u001b[0m    0.57801      0.59750  25.46s\n",
      "     47     \u001b[36m0.85230\u001b[0m     1.61714    0.52704      0.59828  25.52s\n",
      "     48     \u001b[36m0.80862\u001b[0m     1.62933    0.49629      0.59360  25.57s\n",
      "     49     \u001b[36m0.77538\u001b[0m     1.67951    0.46167      0.59360  25.37s\n",
      "     50     \u001b[36m0.73640\u001b[0m     1.71314    0.42985      0.58658  25.54s\n",
      "     51     \u001b[36m0.71492\u001b[0m     1.66994    0.42811      0.60530  25.51s\n",
      "     52     0.88236     2.12201    0.41581      0.58112  25.46s\n",
      "     53     2.18551     2.95029    0.74078      0.37129  25.36s\n",
      "     54     1.45812     1.62313    0.89834      0.56552  25.19s\n",
      "     55     1.11352     \u001b[32m1.54600\u001b[0m    0.72026      0.59984  25.28s\n",
      "     56     0.99098     1.58647    0.62464      0.59204  27.57s\n",
      "     57     0.91759     1.60612    0.57131      0.59438  25.23s\n",
      "     58     0.85663     1.59790    0.53610      0.60530  25.13s\n",
      "     59     0.79394     1.63316    0.48614      0.60530  25.24s\n",
      "     60     0.77305     1.60780    0.48081      0.60530  25.29s\n",
      "     61     0.73322     1.61336    0.45447      0.61934  25.20s\n",
      "     62     \u001b[36m0.69440\u001b[0m     1.66022    0.41826      0.61466  25.08s\n",
      "     63     \u001b[36m0.65307\u001b[0m     1.68164    0.38835      0.61622  25.10s\n",
      "     64     \u001b[36m0.64101\u001b[0m     1.71435    0.37391      0.62559  25.04s\n",
      "     65     \u001b[36m0.60480\u001b[0m     1.73290    0.34901      0.62402  25.16s\n",
      "     66     \u001b[36m0.59450\u001b[0m     1.67695    0.35451      0.62246  25.03s\n",
      "     67     \u001b[36m0.54707\u001b[0m     1.74855    0.31287      0.61232  25.10s\n",
      "     68     \u001b[36m0.52979\u001b[0m     1.75618    0.30167      0.62480  25.16s\n",
      "     69     \u001b[36m0.50570\u001b[0m     1.76929    0.28582      0.62637  25.09s\n",
      "     70     \u001b[36m0.47860\u001b[0m     1.71205    0.27955      0.62871  25.10s\n",
      "     71     0.50073     1.83298    0.27318      0.61544  25.21s\n",
      "     72     \u001b[36m0.47029\u001b[0m     1.81183    0.25957      0.62715  25.21s\n",
      "     73     \u001b[36m0.45587\u001b[0m     1.82220    0.25018      0.62480  25.07s\n",
      "     74     \u001b[36m0.42826\u001b[0m     1.91762    0.22333      0.60998  25.15s\n",
      "     75     0.43844     1.92174    0.22815      0.63261  25.14s\n",
      "     76     0.42860     1.94572    0.22028      0.62168  25.06s\n",
      "     77     \u001b[36m0.40580\u001b[0m     1.90276    0.21327      0.62480  25.08s\n",
      "     78     \u001b[36m0.37741\u001b[0m     1.96872    0.19170      0.63027  25.16s\n",
      "     79     0.38147     1.95581    0.19504      0.62559  25.38s\n",
      "     80     \u001b[36m0.37102\u001b[0m     1.97865    0.18751      0.64119  27.27s\n",
      "     81     \u001b[36m0.36505\u001b[0m     2.05923    0.17728      0.63495  25.52s\n",
      "     82     \u001b[36m0.34237\u001b[0m     2.14644    0.15950      0.62168  29.43s\n",
      "     83     \u001b[36m0.32710\u001b[0m     2.10731    0.15522      0.62949  28.93s\n",
      "     84     \u001b[36m0.32035\u001b[0m     2.15547    0.14862      0.63183  28.57s\n",
      "     85     \u001b[36m0.31591\u001b[0m     2.17050    0.14555      0.63027  27.60s\n",
      "     86     \u001b[36m0.30597\u001b[0m     2.21661    0.13803      0.63963  26.24s\n",
      "     87     0.31950     2.09476    0.15252      0.63885  26.53s\n",
      "     88     \u001b[36m0.28519\u001b[0m     2.19308    0.13004      0.63261  27.31s\n",
      "     89     \u001b[36m0.27491\u001b[0m     2.20968    0.12441      0.63027  26.61s\n",
      "     90     \u001b[36m0.25474\u001b[0m     2.28636    0.11142      0.63183  25.84s\n",
      "     91     0.27619     2.19392    0.12589      0.63339  25.55s\n",
      "     92     0.26011     2.39526    0.10859      0.61856  26.06s\n",
      "     93     \u001b[36m0.25292\u001b[0m     2.36815    0.10680      0.63963  25.82s\n",
      "     94     0.25797     2.30106    0.11211      0.63573  26.11s\n",
      "     95     \u001b[36m0.23609\u001b[0m     2.27266    0.10388      0.63651  28.03s\n",
      "     96     0.24311     2.29788    0.10580      0.63261  27.00s\n",
      "     97     \u001b[36m0.22986\u001b[0m     2.30590    0.09969      0.64119  27.92s\n",
      "     98     \u001b[36m0.20234\u001b[0m     2.39820    0.08437      0.63651  28.17s\n",
      "     99     0.22048     2.45185    0.08992      0.63261  29.76s\n",
      "    100     0.24460     2.54401    0.09615      0.62402  27.65s\n"
     ]
    }
   ],
   "source": [
    "#Make Prediction\n",
    "predict = fit_model(train_x_reshaped, yTrain, image_width, image_height, test_x_reshaped)"
   ]
  },
  {
   "cell_type": "code",
   "execution_count": 7,
   "metadata": {
    "collapsed": false,
    "scrolled": true
   },
   "outputs": [],
   "source": [
    "#Writing to submission file\n",
    "yTest = list(map(chr, predict))\n",
    "labelsInfoTest['Class'] = yTest\n",
    "labelsInfoTest.to_csv('{0}/subzero.csv'.format(path), index = False)"
   ]
  }
 ],
 "metadata": {
  "anaconda-cloud": {},
  "kernelspec": {
   "display_name": "Python [conda root]",
   "language": "python",
   "name": "conda-root-py"
  },
  "language_info": {
   "codemirror_mode": {
    "name": "ipython",
    "version": 3
   },
   "file_extension": ".py",
   "mimetype": "text/x-python",
   "name": "python",
   "nbconvert_exporter": "python",
   "pygments_lexer": "ipython3",
   "version": "3.5.2"
  }
 },
 "nbformat": 4,
 "nbformat_minor": 0
}
